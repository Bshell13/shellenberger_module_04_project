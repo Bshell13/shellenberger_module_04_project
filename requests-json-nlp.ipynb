{
 "cells": [
  {
   "cell_type": "markdown",
   "metadata": {},
   "source": [
    "# Web Mining and Applied NLP (44-620)\n",
    "\n",
    "## Requests, JSON, and NLP\n",
    "\n",
    "### Student Name:\n",
    "\n",
    "Perform the tasks described in the Markdown cells below.  When you have completed the assignment make sure your code cells have all been run (and have output beneath them) and ensure you have committed and pushed ALL of your changes to your assignment repository.\n",
    "\n",
    "Make sure you have [installed spaCy and its pipeline](https://spacy.io/usage#quickstart) and [spaCyTextBlob](https://spacy.io/universe/project/spacy-textblob)\n",
    "\n",
    "Every question that requires you to write code will have a code cell underneath it; you may either write your entire solution in that cell or write it in a python file (`.py`), then import and run the appropriate code to answer the question.\n",
    "\n",
    "This assignment requires that you write additional files (either JSON or pickle files); make sure to submit those files in your repository as well."
   ]
  },
  {
   "cell_type": "markdown",
   "metadata": {},
   "source": [
    "1. The following code accesses the [lyrics.ovh](https://lyricsovh.docs.apiary.io/#reference/0/lyrics-of-a-song/search) public api, searches for the lyrics of a song, and stores it in a dictionary object.  Write the resulting json to a file (either a JSON file or a pickle file; you choose). You will read in the contents of this file for future questions so we do not need to frequently access the API."
   ]
  },
  {
   "cell_type": "markdown",
   "metadata": {},
   "source": [
    "#### Question 1 Answer"
   ]
  },
  {
   "cell_type": "code",
   "execution_count": 1,
   "metadata": {},
   "outputs": [
    {
     "name": "stdout",
     "output_type": "stream",
     "text": [
      "{'lyrics': \"I'm your only friend \\nI'm not your only friend \\nBut I'm a little glowing friend \\nBut really I'm not actually your friend \\nBut I am \\n\\n\\nBlue canary in the outlet by the light switch \\n\\nWho watches over you \\n\\nMake a little birdhouse in your soul \\n\\nNot to put too fine a point on it \\n\\nSay I'm the only bee in your bonnet \\n\\nMake a little birdhouse in your soul \\n\\n\\n\\nI have a secret to tell \\n\\nFrom my electrical well \\n\\nIt's a simple message and I'm leaving out the whistles and bells \\n\\nSo the room must listen to me \\n\\nFilibuster vigilantly \\n\\nMy name is blue canary one note* spelled l-i-t-e \\n\\nMy story's infinite \\n\\nLike the Longines Symphonette it doesn't rest \\n\\n\\n\\nBlue canary in the outlet by the light switch \\n\\nWho watches over you \\n\\nMake a little birdhouse in your soul \\n\\nNot to put too fine a point on it \\n\\nSay I'm the only bee in your bonnet \\n\\nMake a little birdhouse in your soul \\n\\n\\n\\nI'm your only friend \\n\\nI'm not your only friend \\n\\nBut I'm a little glowing friend \\n\\nBut really I'm not actually your friend \\n\\nBut I am \\n\\n\\n\\nThere's a picture opposite me \\n\\nOf my primitive ancestry \\n\\nWhich stood on rocky shores and kept the beaches shipwreck free \\n\\nThough I respect that a lot \\n\\nI'd be fired if that were my job \\n\\nAfter killing Jason off and countless screaming Argonauts \\n\\nBluebird of friendliness \\n\\nLike guardian angels its always near \\n\\n\\n\\nBlue canary in the outlet by the light switch \\n\\nWho watches over you \\n\\nMake a little birdhouse in your soul \\n\\nNot to put too fine a point on it \\n\\nSay I'm the only bee in your bonnet \\n\\nMake a little birdhouse in your soul \\n\\n\\n\\n(and while you're at it \\n\\nKeep the nightlight on inside the \\n\\nBirdhouse in your soul) \\n\\n\\n\\nNot to put too fine a point on it \\n\\nSay I'm the only bee in your bonnet \\n\\nMake a little birdhouse in your soul \\n\\n\\n\\nBlue canary in the outlet by the light switch (and while you're at it) \\n\\nWho watches over you (keep the nightlight on inside the) \\n\\nMake a little birdhouse in your soul (birdhouse in your soul) \\n\\n\\n\\nNot to put too fine a point on it \\n\\nSay I'm the only bee in your bonnet \\n\\nMake a little birdhouse in your soul \\n\\n\\n\\nBlue canary in the outlet by the light switch (and while you're at it) \\n\\nWho watches over you (keep the nightlight on inside the) \\n\\nMake a little birdhouse in your soul (birdhouse in your soul) \\n\\n\\n\\nNot to put too fine a point on it \\n\\nSay I'm the only bee in your bonnet \\n\\nMake a little birdhouse in your soul\"}\n"
     ]
    }
   ],
   "source": [
    "import requests\n",
    "import json\n",
    "\n",
    "result = json.loads(requests.get('https://api.lyrics.ovh/v1/They Might Be Giants/Birdhouse in your soul').text)\n",
    "\n",
    "# Write lyrics to JSON file\n",
    "with open('birdhouse_in_your_soul', 'w') as file:\n",
    "    json.dump(result, file, indent=4)\n",
    "\n",
    "print(result)"
   ]
  },
  {
   "cell_type": "markdown",
   "metadata": {},
   "source": [
    "2. Read in the contents of your file.  Print the lyrics of the song (not the entire dictionary!) and use spaCyTextBlob to perform sentiment analysis on the lyrics.  Print the polarity score of the sentiment analysis.  Given that the range of the polarity score is `[-1.0,1.0]` which corresponds to how positive or negative the text in question is, do you think the lyrics have a more positive or negative connotaion?  Answer this question in a comment in your code cell."
   ]
  },
  {
   "cell_type": "markdown",
   "metadata": {},
   "source": [
    "#### Question 2 Answer"
   ]
  },
  {
   "cell_type": "code",
   "execution_count": 3,
   "metadata": {},
   "outputs": [
    {
     "name": "stdout",
     "output_type": "stream",
     "text": [
      "I'm your only friend \n",
      "I'm not your only friend \n",
      "But I'm a little glowing friend \n",
      "But really I'm not actually your friend \n",
      "But I am \n",
      "\n",
      "\n",
      "Blue canary in the outlet by the light switch \n",
      "\n",
      "Who watches over you \n",
      "\n",
      "Make a little birdhouse in your soul \n",
      "\n",
      "Not to put too fine a point on it \n",
      "\n",
      "Say I'm the only bee in your bonnet \n",
      "\n",
      "Make a little birdhouse in your soul \n",
      "\n",
      "\n",
      "\n",
      "I have a secret to tell \n",
      "\n",
      "From my electrical well \n",
      "\n",
      "It's a simple message and I'm leaving out the whistles and bells \n",
      "\n",
      "So the room must listen to me \n",
      "\n",
      "Filibuster vigilantly \n",
      "\n",
      "My name is blue canary one note* spelled l-i-t-e \n",
      "\n",
      "My story's infinite \n",
      "\n",
      "Like the Longines Symphonette it doesn't rest \n",
      "\n",
      "\n",
      "\n",
      "Blue canary in the outlet by the light switch \n",
      "\n",
      "Who watches over you \n",
      "\n",
      "Make a little birdhouse in your soul \n",
      "\n",
      "Not to put too fine a point on it \n",
      "\n",
      "Say I'm the only bee in your bonnet \n",
      "\n",
      "Make a little birdhouse in your soul \n",
      "\n",
      "\n",
      "\n",
      "I'm your only friend \n",
      "\n",
      "I'm not your only friend \n",
      "\n",
      "But I'm a little glowing friend \n",
      "\n",
      "But really I'm not actually your friend \n",
      "\n",
      "But I am \n",
      "\n",
      "\n",
      "\n",
      "There's a picture opposite me \n",
      "\n",
      "Of my primitive ancestry \n",
      "\n",
      "Which stood on rocky shores and kept the beaches shipwreck free \n",
      "\n",
      "Though I respect that a lot \n",
      "\n",
      "I'd be fired if that were my job \n",
      "\n",
      "After killing Jason off and countless screaming Argonauts \n",
      "\n",
      "Bluebird of friendliness \n",
      "\n",
      "Like guardian angels its always near \n",
      "\n",
      "\n",
      "\n",
      "Blue canary in the outlet by the light switch \n",
      "\n",
      "Who watches over you \n",
      "\n",
      "Make a little birdhouse in your soul \n",
      "\n",
      "Not to put too fine a point on it \n",
      "\n",
      "Say I'm the only bee in your bonnet \n",
      "\n",
      "Make a little birdhouse in your soul \n",
      "\n",
      "\n",
      "\n",
      "(and while you're at it \n",
      "\n",
      "Keep the nightlight on inside the \n",
      "\n",
      "Birdhouse in your soul) \n",
      "\n",
      "\n",
      "\n",
      "Not to put too fine a point on it \n",
      "\n",
      "Say I'm the only bee in your bonnet \n",
      "\n",
      "Make a little birdhouse in your soul \n",
      "\n",
      "\n",
      "\n",
      "Blue canary in the outlet by the light switch (and while you're at it) \n",
      "\n",
      "Who watches over you (keep the nightlight on inside the) \n",
      "\n",
      "Make a little birdhouse in your soul (birdhouse in your soul) \n",
      "\n",
      "\n",
      "\n",
      "Not to put too fine a point on it \n",
      "\n",
      "Say I'm the only bee in your bonnet \n",
      "\n",
      "Make a little birdhouse in your soul \n",
      "\n",
      "\n",
      "\n",
      "Blue canary in the outlet by the light switch (and while you're at it) \n",
      "\n",
      "Who watches over you (keep the nightlight on inside the) \n",
      "\n",
      "Make a little birdhouse in your soul (birdhouse in your soul) \n",
      "\n",
      "\n",
      "\n",
      "Not to put too fine a point on it \n",
      "\n",
      "Say I'm the only bee in your bonnet \n",
      "\n",
      "Make a little birdhouse in your soul\n",
      "The polarity of \"Birdhouse in your soul\" is 0.04505208333333333\n"
     ]
    }
   ],
   "source": [
    "import spacy\n",
    "from spacytextblob.spacytextblob import SpacyTextBlob\n",
    "\n",
    "nlp = spacy.load('en_core_web_sm')\n",
    "nlp.add_pipe('spacytextblob')\n",
    "doc = nlp(result.get('lyrics', ''))\n",
    "print(f'{result.get('lyrics', '')}')\n",
    "print(f'The polarity of \"Birdhouse in your soul\" is {doc._.blob.polarity}')\n",
    "# The polarity shows the lyrics are close to neutral with a slight positive connotation.\n"
   ]
  },
  {
   "cell_type": "markdown",
   "metadata": {},
   "source": [
    "3. Write a function that takes an artist, song, and filename, accesses the lyrics.ovh api to get the song lyrics, and writes the results to the specified filename.  Test this function by getting the lyrics to any four songs of your choice and storing them in different files."
   ]
  },
  {
   "cell_type": "markdown",
   "metadata": {},
   "source": [
    "#### Question 4 Answered"
   ]
  },
  {
   "cell_type": "code",
   "execution_count": null,
   "metadata": {},
   "outputs": [],
   "source": [
    "def get_lyrics(artists:str, songs:str, filename:str):\n",
    "\n",
    "    result = json.loads(requests.get(f'https://api.lyrics.ovh/v1/{artists}/{songs}').text)\n",
    "    \n",
    "    # Write lyrics to JSON file\n",
    "    with open(filename, 'w') as file:\n",
    "        json.dump(result, file, indent=4)\n",
    "\n",
    "get_lyrics(artists='Adele', songs='Hello', filename='hello.json')\n",
    "get_lyrics(artists='Foo Fighters', songs='All My Life', filename='all_my_life.json')\n",
    "get_lyrics(artists='Bruno Mars', songs='Count On Me', filename='count_on_me.json')\n",
    "get_lyrics(artists='Kanye West', songs='Famous', filename='famous.json')"
   ]
  },
  {
   "cell_type": "markdown",
   "metadata": {},
   "source": [
    "4. Write a function that takes the name of a file that contains song lyrics, loads the file, performs sentiment analysis, and returns the polarity score.  Use this function to print the polarity scores (with the name of the song) of the three files you created in question 3.  Does the reported polarity match your understanding of the song's lyrics? Why or why not do you think that might be?  Answer the questions in either a comment in the code cell or a markdown cell under the code cell."
   ]
  },
  {
   "cell_type": "markdown",
   "metadata": {},
   "source": [
    "#### Question 4 Answer"
   ]
  },
  {
   "cell_type": "code",
   "execution_count": 7,
   "metadata": {},
   "outputs": [
    {
     "name": "stdout",
     "output_type": "stream",
     "text": [
      "The polarity of Hello is -0.14109195402298852\n",
      "The polarity of Count On Me is 0.027500000000000004\n",
      "The polarity of Famous is 0.21241496598639453\n",
      "The polarity of All My Life is -0.013333333333333334\n"
     ]
    }
   ],
   "source": [
    "import spacy\n",
    "from spacytextblob.spacytextblob import SpacyTextBlob\n",
    "\n",
    "nlp = spacy.load('en_core_web_sm')\n",
    "nlp.add_pipe('spacytextblob')\n",
    "\n",
    "def polarity_score(song_name:str, filename:str):\n",
    "    with open(filename, 'r') as file:\n",
    "        song_lyrics = json.load(file)\n",
    "    doc = nlp(song_lyrics.get('lyrics', ''))\n",
    "    print(f'The polarity of {song_name} is {doc._.blob.polarity}')\n",
    "    # The polarity shows the lyrics are close to neutral with a slight positive connotation.\n",
    "\n",
    "polarity_score(song_name='Hello', filename='hello.json')\n",
    "polarity_score(song_name='Count On Me', filename='count_on_me.json')\n",
    "polarity_score(song_name='Famous', filename='famous.json')\n",
    "polarity_score(song_name='All My Life', filename='all_my_life.json')"
   ]
  },
  {
   "cell_type": "markdown",
   "metadata": {},
   "source": [
    "#### Hello Lyric Analysis\n",
    "The song 'Hello' by Adele has a polarity of close to neutral, but more negative. I agree with this because the song itself sounds more sad and upset than neutral."
   ]
  },
  {
   "cell_type": "markdown",
   "metadata": {},
   "source": [
    "#### Count On Me Lyric Analysis\n",
    "The song 'Count on Me' by Bruno Mars is more on the positive side but still relatively neurtral. The song is happy and expresses trust. Side comment, this is going to be the first dance at my wedding!"
   ]
  },
  {
   "cell_type": "markdown",
   "metadata": {},
   "source": [
    "#### Famous Lyric Analysis\n",
    "This song by Kanye West has a positive connotation to the lyrics. This song talks about how famous and prideful he is about his life, so this polarity score is accurate."
   ]
  },
  {
   "cell_type": "markdown",
   "metadata": {},
   "source": [
    "#### All My Life Lyric Analysis\n",
    "This song by the Foo Fighters has a score the is extremely neutral, but I would categorize it as more negative just becuase of the music associated with the lyrics."
   ]
  }
 ],
 "metadata": {
  "kernelspec": {
   "display_name": ".venv",
   "language": "python",
   "name": "python3"
  },
  "language_info": {
   "codemirror_mode": {
    "name": "ipython",
    "version": 3
   },
   "file_extension": ".py",
   "mimetype": "text/x-python",
   "name": "python",
   "nbconvert_exporter": "python",
   "pygments_lexer": "ipython3",
   "version": "3.12.4"
  }
 },
 "nbformat": 4,
 "nbformat_minor": 4
}
